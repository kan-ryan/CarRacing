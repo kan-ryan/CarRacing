{
  "nbformat": 4,
  "nbformat_minor": 0,
  "metadata": {
    "colab": {
      "name": "classification.ipynb",
      "provenance": [],
      "collapsed_sections": []
    },
    "kernelspec": {
      "display_name": "Python 3",
      "language": "python",
      "name": "python3"
    },
    "language_info": {
      "codemirror_mode": {
        "name": "ipython",
        "version": 3
      },
      "file_extension": ".py",
      "mimetype": "text/x-python",
      "name": "python",
      "nbconvert_exporter": "python",
      "pygments_lexer": "ipython3",
      "version": "3.8.8"
    },
    "accelerator": "GPU"
  },
  "cells": [
    {
      "cell_type": "markdown",
      "metadata": {
        "id": "MhoQ0WE77laV"
      },
      "source": [
        "##### Copyright 2018 The TensorFlow Authors."
      ]
    },
    {
      "cell_type": "code",
      "metadata": {
        "id": "b4suegOh_x6K"
      },
      "source": [
        "import pickle\n",
        "import numpy as np\n",
        "import os\n",
        "import gzip\n",
        "import torch\n",
        "\n",
        "\n",
        "def read_data(datasets_dir=\"./data\", frac = 0.1):\n",
        "    \"\"\"\n",
        "    This method reads the states and actions recorded in drive_manually.py \n",
        "    and splits it into training/ validation set.\n",
        "    \"\"\"\n",
        "    print(\"... read data\")\n",
        "\n",
        "    #combines the paths\n",
        "    data_file = os.path.join(datasets_dir, 'data.pkl.gzip')\n",
        "\n",
        "    f = gzip.open(data_file,'rb')\n",
        "    data = pickle.load(f)\n",
        "\n",
        "    # get images as features and actions as targets\n",
        "    X = np.array(data[\"state\"]).astype('float32')\n",
        "    y = np.array(data[\"action\"]).astype('float32')\n",
        "\n",
        "    # split data into training and validation set\n",
        "    n_samples = len(data[\"state\"])\n",
        "    X_train, y_train = X[:int((1-frac) * n_samples)], y[:int((1-frac) * n_samples)]\n",
        "    X_valid, y_valid = X[int((1-frac) * n_samples):], y[int((1-frac) * n_samples):]\n",
        "    return X_train, y_train, X_valid, y_valid\n",
        "\n",
        "\n",
        "def preprocessing(X_train, y_train, X_valid, y_valid, history_length=1):\n",
        "\n",
        "    # crop, 84 x 84, some pixels never change\n",
        "    X_train = np.array([img[:-12,6:-6] for img in X_train])\n",
        "    X_valid = np.array([img[:-12,6:-6] for img in X_valid])\n",
        "    # grayscale\n",
        "    X_train = np.array([np.dot(img[...,0:3], [0.299, 0.587, 0.114]) for img in X_train])\n",
        "    X_valid = np.array([np.dot(img[...,0:3], [0.299, 0.587, 0.114]) for img in X_valid])\n",
        "    # scaling/normalizing\n",
        "    X_train = np.array([img/255.0 for img in X_train])\n",
        "    X_valid = np.array([img/255.0 for img in X_valid])\n",
        "    \n",
        "    return X_train, y_train, X_valid, y_valid\n",
        "\n"
      ],
      "execution_count": null,
      "outputs": []
    },
    {
      "cell_type": "code",
      "metadata": {
        "colab": {
          "base_uri": "https://localhost:8080/"
        },
        "id": "gPQF1fjK_1AN",
        "outputId": "dd4550e2-5000-408d-8594-28bd6a7bb22f"
      },
      "source": [
        "X_train, y_train, X_valid, y_valid = read_data(\".\")"
      ],
      "execution_count": null,
      "outputs": [
        {
          "output_type": "stream",
          "name": "stdout",
          "text": [
            "... read data\n"
          ]
        }
      ]
    },
    {
      "cell_type": "code",
      "metadata": {
        "colab": {
          "base_uri": "https://localhost:8080/"
        },
        "id": "us1vnzt8AHOi",
        "outputId": "001f9fb5-b0a1-4060-cae6-ee676b1e0d21"
      },
      "source": [
        "X_train.shape"
      ],
      "execution_count": null,
      "outputs": [
        {
          "output_type": "execute_result",
          "data": {
            "text/plain": [
              "(18000, 96, 96, 3)"
            ]
          },
          "metadata": {},
          "execution_count": 3
        }
      ]
    },
    {
      "cell_type": "code",
      "metadata": {
        "colab": {
          "base_uri": "https://localhost:8080/"
        },
        "id": "Atn83r43KhFQ",
        "outputId": "b6077e2f-175e-4011-9dec-ef6c8b251420"
      },
      "source": [
        "y_train.shape"
      ],
      "execution_count": null,
      "outputs": [
        {
          "output_type": "execute_result",
          "data": {
            "text/plain": [
              "(18000, 3)"
            ]
          },
          "metadata": {},
          "execution_count": 4
        }
      ]
    },
    {
      "cell_type": "code",
      "metadata": {
        "id": "YI8tL4YhgHjN"
      },
      "source": [
        "X_train, y_train, X_valid, y_valid = preprocessing(X_train, y_train, X_valid, y_valid)"
      ],
      "execution_count": null,
      "outputs": []
    },
    {
      "cell_type": "code",
      "metadata": {
        "colab": {
          "base_uri": "https://localhost:8080/"
        },
        "id": "2DTzw0VphI82",
        "outputId": "ad104a71-1e74-42d6-da36-eaf3dcd86296"
      },
      "source": [
        "print(X_train.shape)\n",
        "print(y_train.shape)"
      ],
      "execution_count": null,
      "outputs": [
        {
          "output_type": "stream",
          "name": "stdout",
          "text": [
            "(18000, 84, 84)\n",
            "(18000, 3)\n"
          ]
        }
      ]
    },
    {
      "cell_type": "code",
      "metadata": {
        "colab": {
          "base_uri": "https://localhost:8080/"
        },
        "id": "tum4vwYNhJoV",
        "outputId": "ecd02bc6-78d1-4c7b-accf-912f7c221d93"
      },
      "source": [
        "print(X_valid.shape)\n",
        "print(y_train.shape)"
      ],
      "execution_count": null,
      "outputs": [
        {
          "output_type": "stream",
          "name": "stdout",
          "text": [
            "(2000, 84, 84)\n",
            "(18000, 3)\n"
          ]
        }
      ]
    },
    {
      "cell_type": "code",
      "metadata": {
        "colab": {
          "base_uri": "https://localhost:8080/"
        },
        "id": "7no-WHSeBmjp",
        "outputId": "bb767317-167a-4c91-c41c-37d51a2bd7a9"
      },
      "source": [
        "# TensorFlow and tf.keras\n",
        "import tensorflow as tf\n",
        "\n",
        "# Helper libraries\n",
        "import numpy as np\n",
        "import matplotlib.pyplot as plt\n",
        "\n",
        "print(tf.__version__)\n",
        "\n",
        "model = tf.keras.Sequential([\n",
        "    #reshaping size to (84, 84, 1) from (84, 84)\n",
        "    tf.keras.layers.Reshape(target_shape = (84, 84, 1), input_shape=(84, 84)),\n",
        "\n",
        "    #Convolves kernels to produce a 2d activation map\n",
        "    tf.keras.layers.Conv2D(4, kernel_size=(11, 11), padding=\"same\", activation=None),\n",
        "\n",
        "    #takes maximum out of 3x3 going by 1x1 stride\n",
        "    #padding ='valid' output shape = math.floor((input_shape - pool_size) / strides) + 1\n",
        "    tf.keras.layers.MaxPool2D(pool_size=(3, 3), strides=(1, 1), padding='valid', data_format=None),\n",
        "    \n",
        "    tf.keras.layers.Conv2D(8, kernel_size = (5, 5), strides = (1, 1), padding='same', activation=None),\n",
        "    \n",
        "    tf.keras.layers.MaxPool2D(pool_size=(3, 3), strides=(1, 1), padding='valid', data_format=None),\n",
        "    \n",
        "    tf.keras.layers.Conv2D(64, kernel_size = (3, 3), strides = (1, 1), padding='same', activation=None),\n",
        "    \n",
        "    tf.keras.layers.Conv2D(64, kernel_size = (3, 3), strides = (1, 1), padding='same', activation=None),\n",
        "    \n",
        "    tf.keras.layers.Conv2D(8, kernel_size = (3, 3), strides = (1, 1), padding='same', activation=None),\n",
        "\n",
        "    tf.keras.layers.MaxPool2D(pool_size=(3, 3), strides=(5, 5), padding='same', data_format=None),\n",
        "\n",
        "    tf.keras.layers.Flatten(),\n",
        "    tf.keras.layers.Dense(2048, activation='relu'),\n",
        "    tf.keras.layers.Dense(512, activation='relu'),\n",
        "    tf.keras.layers.Dense(64, activation='relu'),\n",
        "    tf.keras.layers.Dense(3, activation='linear')\n",
        "    \n",
        "])"
      ],
      "execution_count": null,
      "outputs": [
        {
          "output_type": "stream",
          "name": "stdout",
          "text": [
            "2.7.0\n"
          ]
        }
      ]
    },
    {
      "cell_type": "code",
      "metadata": {
        "colab": {
          "base_uri": "https://localhost:8080/"
        },
        "id": "q-PjrzqtII2Y",
        "outputId": "1e903627-fcf0-4f67-9dfc-08982899ecb8"
      },
      "source": [
        "#TODO. check the model architecture\n",
        "model.summary()"
      ],
      "execution_count": null,
      "outputs": [
        {
          "output_type": "stream",
          "name": "stdout",
          "text": [
            "Model: \"sequential\"\n",
            "_________________________________________________________________\n",
            " Layer (type)                Output Shape              Param #   \n",
            "=================================================================\n",
            " reshape (Reshape)           (None, 84, 84, 1)         0         \n",
            "                                                                 \n",
            " conv2d (Conv2D)             (None, 84, 84, 4)         488       \n",
            "                                                                 \n",
            " max_pooling2d (MaxPooling2D  (None, 82, 82, 4)        0         \n",
            " )                                                               \n",
            "                                                                 \n",
            " conv2d_1 (Conv2D)           (None, 82, 82, 8)         808       \n",
            "                                                                 \n",
            " max_pooling2d_1 (MaxPooling  (None, 80, 80, 8)        0         \n",
            " 2D)                                                             \n",
            "                                                                 \n",
            " conv2d_2 (Conv2D)           (None, 80, 80, 64)        4672      \n",
            "                                                                 \n",
            " conv2d_3 (Conv2D)           (None, 80, 80, 64)        36928     \n",
            "                                                                 \n",
            " conv2d_4 (Conv2D)           (None, 80, 80, 8)         4616      \n",
            "                                                                 \n",
            " max_pooling2d_2 (MaxPooling  (None, 16, 16, 8)        0         \n",
            " 2D)                                                             \n",
            "                                                                 \n",
            " flatten (Flatten)           (None, 2048)              0         \n",
            "                                                                 \n",
            " dense (Dense)               (None, 2048)              4196352   \n",
            "                                                                 \n",
            " dense_1 (Dense)             (None, 512)               1049088   \n",
            "                                                                 \n",
            " dense_2 (Dense)             (None, 64)                32832     \n",
            "                                                                 \n",
            " dense_3 (Dense)             (None, 3)                 195       \n",
            "                                                                 \n",
            "=================================================================\n",
            "Total params: 5,325,979\n",
            "Trainable params: 5,325,979\n",
            "Non-trainable params: 0\n",
            "_________________________________________________________________\n"
          ]
        }
      ]
    },
    {
      "cell_type": "code",
      "metadata": {
        "colab": {
          "base_uri": "https://localhost:8080/"
        },
        "id": "eSfAvd1PQRKl",
        "outputId": "44e5f134-784b-412d-c87d-53ce394373d3"
      },
      "source": [
        "preds = model.predict_on_batch(X_train[:10])\n",
        "print(preds.shape)\n",
        "preds"
      ],
      "execution_count": null,
      "outputs": [
        {
          "output_type": "stream",
          "name": "stdout",
          "text": [
            "(10, 3)\n"
          ]
        },
        {
          "output_type": "execute_result",
          "data": {
            "text/plain": [
              "array([[ 8.8416953e-03,  3.4655910e-05,  2.6830547e-03],\n",
              "       [-1.2142794e-02, -4.6525337e-04,  2.3752177e-02],\n",
              "       [-4.6728499e-02, -3.5096522e-02,  3.0322487e-02],\n",
              "       [-4.6708323e-02, -3.7717719e-02,  6.3959025e-03],\n",
              "       [-3.9455526e-02, -1.0005561e-02, -1.9140989e-03],\n",
              "       [-3.5342917e-02,  8.8042459e-03,  3.1076483e-02],\n",
              "       [-5.4656401e-02,  8.1909541e-03,  4.1281670e-02],\n",
              "       [-4.5287117e-02,  2.0397022e-02,  5.3111423e-02],\n",
              "       [-3.5507567e-02,  2.6629854e-02,  6.7972049e-02],\n",
              "       [-4.3832388e-02,  3.6849476e-02,  7.1537390e-02]], dtype=float32)"
            ]
          },
          "metadata": {},
          "execution_count": 10
        }
      ]
    },
    {
      "cell_type": "markdown",
      "metadata": {
        "id": "kHODAGnMH-2a"
      },
      "source": [
        "\n",
        "### Compile the model\n",
        "\n",
        "Before the model is ready for training, it needs a few more settings. These are added during the model's [*compile*](https://www.tensorflow.org/api_docs/python/tf/keras/Model#compile) step:\n",
        "\n",
        "* [*Loss function*](https://www.tensorflow.org/api_docs/python/tf/keras/losses) —This measures how accurate the model is during training. You want to minimize this function to \"steer\" the model in the right direction.\n",
        "* [*Optimizer*](https://www.tensorflow.org/api_docs/python/tf/keras/optimizers) —This is how the model is updated based on the data it sees and its loss function.\n",
        "* [*Metrics*](https://www.tensorflow.org/api_docs/python/tf/keras/metrics) —Used to monitor the training and testing steps. The following example uses *accuracy*, the fraction of the images that are correctly classified."
      ]
    },
    {
      "cell_type": "code",
      "metadata": {
        "id": "cFGYvvdCHx2g"
      },
      "source": [
        "model.compile(optimizer='adam',\n",
        "              loss=tf.keras.losses.MeanSquaredError(),\n",
        "              metrics=['mae'])"
      ],
      "execution_count": null,
      "outputs": []
    },
    {
      "cell_type": "code",
      "metadata": {
        "colab": {
          "base_uri": "https://localhost:8080/"
        },
        "id": "M3593gZaPFdI",
        "outputId": "e68d8622-7d6c-4017-a9b5-d65fdb0af4ee"
      },
      "source": [
        "\n",
        "history = model.fit(\n",
        "    x=X_train[:9000],\n",
        "    y=y_train[:9000],\n",
        "    batch_size=32,\n",
        "    epochs=30,\n",
        "    validation_data=(X_valid, y_valid)\n",
        ")"
      ],
      "execution_count": null,
      "outputs": [
        {
          "output_type": "stream",
          "name": "stdout",
          "text": [
            "Epoch 1/30\n",
            "282/282 [==============================] - 8s 27ms/step - loss: 0.0072 - mae: 0.0272 - val_loss: 0.0941 - val_mae: 0.1190\n",
            "Epoch 2/30\n",
            "282/282 [==============================] - 7s 26ms/step - loss: 0.0086 - mae: 0.0301 - val_loss: 0.0829 - val_mae: 0.1100\n",
            "Epoch 3/30\n",
            "282/282 [==============================] - 7s 26ms/step - loss: 0.0056 - mae: 0.0239 - val_loss: 0.0982 - val_mae: 0.1226\n",
            "Epoch 4/30\n",
            "282/282 [==============================] - 8s 27ms/step - loss: 0.0059 - mae: 0.0241 - val_loss: 0.0866 - val_mae: 0.1079\n",
            "Epoch 5/30\n",
            "282/282 [==============================] - 7s 27ms/step - loss: 0.0052 - mae: 0.0213 - val_loss: 0.0944 - val_mae: 0.1160\n",
            "Epoch 6/30\n",
            "282/282 [==============================] - 8s 27ms/step - loss: 0.0062 - mae: 0.0236 - val_loss: 0.0831 - val_mae: 0.1063\n",
            "Epoch 7/30\n",
            "282/282 [==============================] - 8s 27ms/step - loss: 0.0055 - mae: 0.0214 - val_loss: 0.0834 - val_mae: 0.1100\n",
            "Epoch 8/30\n",
            "282/282 [==============================] - 8s 27ms/step - loss: 0.0055 - mae: 0.0221 - val_loss: 0.0935 - val_mae: 0.1170\n",
            "Epoch 9/30\n",
            "282/282 [==============================] - 8s 27ms/step - loss: 0.0075 - mae: 0.0260 - val_loss: 0.0716 - val_mae: 0.0969\n",
            "Epoch 10/30\n",
            "282/282 [==============================] - 8s 27ms/step - loss: 0.0068 - mae: 0.0249 - val_loss: 0.0863 - val_mae: 0.1059\n",
            "Epoch 11/30\n",
            "282/282 [==============================] - 8s 27ms/step - loss: 0.0043 - mae: 0.0184 - val_loss: 0.0873 - val_mae: 0.1063\n",
            "Epoch 12/30\n",
            "282/282 [==============================] - 8s 27ms/step - loss: 0.0048 - mae: 0.0197 - val_loss: 0.0902 - val_mae: 0.1088\n",
            "Epoch 13/30\n",
            "282/282 [==============================] - 8s 27ms/step - loss: 0.0040 - mae: 0.0178 - val_loss: 0.0821 - val_mae: 0.1037\n",
            "Epoch 14/30\n",
            "282/282 [==============================] - 8s 27ms/step - loss: 0.0051 - mae: 0.0209 - val_loss: 0.0743 - val_mae: 0.0944\n",
            "Epoch 15/30\n",
            "282/282 [==============================] - 8s 28ms/step - loss: 0.0043 - mae: 0.0190 - val_loss: 0.0756 - val_mae: 0.1007\n",
            "Epoch 16/30\n",
            "282/282 [==============================] - 8s 27ms/step - loss: 0.0035 - mae: 0.0167 - val_loss: 0.0915 - val_mae: 0.1035\n",
            "Epoch 17/30\n",
            "282/282 [==============================] - 8s 28ms/step - loss: 0.0041 - mae: 0.0181 - val_loss: 0.0831 - val_mae: 0.0982\n",
            "Epoch 18/30\n",
            "282/282 [==============================] - 8s 28ms/step - loss: 0.0045 - mae: 0.0189 - val_loss: 0.0786 - val_mae: 0.1013\n",
            "Epoch 19/30\n",
            "282/282 [==============================] - 8s 28ms/step - loss: 0.0031 - mae: 0.0145 - val_loss: 0.0786 - val_mae: 0.0977\n",
            "Epoch 20/30\n",
            "282/282 [==============================] - 8s 28ms/step - loss: 0.0039 - mae: 0.0180 - val_loss: 0.0860 - val_mae: 0.1095\n",
            "Epoch 21/30\n",
            "282/282 [==============================] - 8s 27ms/step - loss: 0.0381 - mae: 0.0615 - val_loss: 0.0799 - val_mae: 0.1192\n",
            "Epoch 22/30\n",
            "282/282 [==============================] - 8s 27ms/step - loss: 0.0789 - mae: 0.1169 - val_loss: 0.0800 - val_mae: 0.1183\n",
            "Epoch 23/30\n",
            "282/282 [==============================] - 8s 27ms/step - loss: 0.0789 - mae: 0.1178 - val_loss: 0.0802 - val_mae: 0.1169\n",
            "Epoch 24/30\n",
            "282/282 [==============================] - 8s 28ms/step - loss: 0.0789 - mae: 0.1164 - val_loss: 0.0800 - val_mae: 0.1217\n",
            "Epoch 25/30\n",
            "282/282 [==============================] - 8s 27ms/step - loss: 0.0789 - mae: 0.1176 - val_loss: 0.0801 - val_mae: 0.1183\n",
            "Epoch 26/30\n",
            "282/282 [==============================] - 8s 27ms/step - loss: 0.0789 - mae: 0.1173 - val_loss: 0.0801 - val_mae: 0.1179\n",
            "Epoch 27/30\n",
            "282/282 [==============================] - 8s 27ms/step - loss: 0.0789 - mae: 0.1177 - val_loss: 0.0801 - val_mae: 0.1148\n",
            "Epoch 28/30\n",
            "282/282 [==============================] - 8s 27ms/step - loss: 0.0789 - mae: 0.1165 - val_loss: 0.0800 - val_mae: 0.1171\n",
            "Epoch 29/30\n",
            "282/282 [==============================] - 8s 27ms/step - loss: 0.0789 - mae: 0.1170 - val_loss: 0.0803 - val_mae: 0.1186\n",
            "Epoch 30/30\n",
            "282/282 [==============================] - 8s 27ms/step - loss: 0.0788 - mae: 0.1169 - val_loss: 0.0801 - val_mae: 0.1185\n"
          ]
        }
      ]
    },
    {
      "cell_type": "code",
      "metadata": {
        "id": "IHqu32zxjIKg"
      },
      "source": [
        "import pickle\n",
        "model.save(\"modeltest30.h5\")\n",
        "with open('/trainHistoryDict', 'wb') as file_pi:\n",
        "        pickle.dump(history.history, file_pi)"
      ],
      "execution_count": null,
      "outputs": []
    },
    {
      "cell_type": "code",
      "metadata": {
        "id": "TdWi_6rfkC-8"
      },
      "source": [
        "import pickle\n",
        "with open(\"./model_30_history.pickle\", \"wb\") as f:\n",
        "  pickle.dump(model.history.history, f)"
      ],
      "execution_count": null,
      "outputs": []
    },
    {
      "cell_type": "code",
      "source": [
        "import matplotlib.pyplot as plt\n",
        "history.history.keys()\n",
        "plt.plot(history.history['loss'], label=\"loss\")\n",
        "plt.plot(history.history['val_loss'], label=\"val_loss\")\n",
        "plt.legend()\n",
        "\n",
        "\n"
      ],
      "metadata": {
        "id": "Urdjyl3A6YHR",
        "colab": {
          "base_uri": "https://localhost:8080/",
          "height": 286
        },
        "outputId": "be6d8239-dcb4-4be3-8d17-61dff72438f5"
      },
      "execution_count": null,
      "outputs": [
        {
          "output_type": "execute_result",
          "data": {
            "text/plain": [
              "<matplotlib.legend.Legend at 0x7fa5c0307490>"
            ]
          },
          "metadata": {},
          "execution_count": 15
        },
        {
          "output_type": "display_data",
          "data": {
            "image/png": "[encoded data removed]",
            "text/plain": [
              "<Figure size 432x288 with 1 Axes>"
            ]
          },
          "metadata": {
            "needs_background": "light"
          }
        }
      ]
    },
    {
      "cell_type": "code",
      "source": [
        "print (tf.__version__)"
      ],
      "metadata": {
        "id": "XMUSXgBt-Lz9",
        "outputId": "01818ac4-19ed-48c6-e600-afed03e379c9",
        "colab": {
          "base_uri": "https://localhost:8080/"
        }
      },
      "execution_count": null,
      "outputs": [
        {
          "output_type": "stream",
          "name": "stdout",
          "text": [
            "2.7.0\n"
          ]
        }
      ]
    },
    {
      "cell_type": "code",
      "metadata": {
        "cellView": "form",
        "id": "_ckMIh7O7s6D"
      },
      "source": [
        "#@title Licensed under the Apache License, Version 2.0 (the \"License\");\n",
        "# you may not use this file except in compliance with the License.\n",
        "# You may obtain a copy of the License at\n",
        "#\n",
        "# https://www.apache.org/licenses/LICENSE-2.0\n",
        "#\n",
        "# Unless required by applicable law or agreed to in writing, software\n",
        "# distributed under the License is distributed on an \"AS IS\" BASIS,\n",
        "# WITHOUT WARRANTIES OR CONDITIONS OF ANY KIND, either express or implied.\n",
        "# See the License for the specific language governing permissions and\n",
        "# limitations under the License."
      ],
      "execution_count": null,
      "outputs": []
    }
  ]
}